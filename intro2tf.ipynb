{
 "cells": [
  {
   "cell_type": "markdown",
   "metadata": {
    "colab_type": "text",
    "id": "kR-4eNdK6lYS"
   },
   "source": [
    "Intro2TF\n",
    "==========\n",
    "\n",
    "(Reference: https://github.com/tensorflow/tensorflow/tree/master/tensorflow/examples/udacity)"
   ]
  },
  {
   "cell_type": "markdown",
   "metadata": {},
   "source": [
    "### Preprocessing"
   ]
  },
  {
   "cell_type": "markdown",
   "metadata": {},
   "source": [
    "These are all the modules we'll be using later. Make sure you can import them before proceeding further."
   ]
  },
  {
   "cell_type": "code",
   "execution_count": 1,
   "metadata": {
    "cellView": "both",
    "colab": {
     "autoexec": {
      "startup": false,
      "wait_interval": 0
     }
    },
    "colab_type": "code",
    "collapsed": true,
    "id": "JLpLa8Jt7Vu4"
   },
   "outputs": [],
   "source": [
    "from __future__ import print_function, division\n",
    "import numpy as np\n",
    "import tensorflow as tf\n",
    "from six.moves import cPickle as pickle\n",
    "from six.moves import range"
   ]
  },
  {
   "cell_type": "markdown",
   "metadata": {
    "colab_type": "text",
    "id": "1HrCK6e17WzV"
   },
   "source": [
    "First, we load in the data. For how this data file was generated, please refer to https://github.com/tensorflow/tensorflow/blob/master/tensorflow/examples/udacity/1_notmnist.ipynb."
   ]
  },
  {
   "cell_type": "code",
   "execution_count": 2,
   "metadata": {
    "cellView": "both",
    "colab": {
     "autoexec": {
      "startup": false,
      "wait_interval": 0
     },
     "output_extras": [
      {
       "item_id": 1
      }
     ]
    },
    "colab_type": "code",
    "collapsed": false,
    "executionInfo": {
     "elapsed": 19456,
     "status": "ok",
     "timestamp": 1449847956073,
     "user": {
      "color": "",
      "displayName": "",
      "isAnonymous": false,
      "isMe": true,
      "permissionId": "",
      "photoUrl": "",
      "sessionId": "0",
      "userId": ""
     },
     "user_tz": 480
    },
    "id": "y3-cj1bpmuxc",
    "outputId": "0ddb1607-1fc4-4ddb-de28-6c7ab7fb0c33",
    "scrolled": true
   },
   "outputs": [
    {
     "name": "stdout",
     "output_type": "stream",
     "text": [
      "Training set (200000, 28, 28) (200000,)\n",
      "Validation set (10000, 28, 28) (10000,)\n",
      "Test set (10000, 28, 28) (10000,)\n"
     ]
    }
   ],
   "source": [
    "pickle_file = 'notMNIST.pickle'\n",
    "\n",
    "with open(pickle_file, 'rb') as f:\n",
    "  save = pickle.load(f)\n",
    "  train_dataset = save['train_dataset']\n",
    "  train_labels = save['train_labels']\n",
    "  valid_dataset = save['valid_dataset']\n",
    "  valid_labels = save['valid_labels']\n",
    "  test_dataset = save['test_dataset']\n",
    "  test_labels = save['test_labels']\n",
    "  del save  # hint to help gc free up memory\n",
    "  print('Training set', train_dataset.shape, train_labels.shape)\n",
    "  print('Validation set', valid_dataset.shape, valid_labels.shape)\n",
    "  print('Test set', test_dataset.shape, test_labels.shape)"
   ]
  },
  {
   "cell_type": "markdown",
   "metadata": {
    "colab_type": "text",
    "id": "L7aHrm6nGDMB"
   },
   "source": [
    "Reformat into a shape that's more adapted to the models we're going to train:\n",
    "- data as a flat matrix,\n",
    "- labels as float one-hot encodings."
   ]
  },
  {
   "cell_type": "code",
   "execution_count": 3,
   "metadata": {
    "cellView": "both",
    "colab": {
     "autoexec": {
      "startup": false,
      "wait_interval": 0
     },
     "output_extras": [
      {
       "item_id": 1
      }
     ]
    },
    "colab_type": "code",
    "collapsed": false,
    "executionInfo": {
     "elapsed": 19723,
     "status": "ok",
     "timestamp": 1449847956364,
     "user": {
      "color": "",
      "displayName": "",
      "isAnonymous": false,
      "isMe": true,
      "permissionId": "",
      "photoUrl": "",
      "sessionId": "0",
      "userId": ""
     },
     "user_tz": 480
    },
    "id": "IRSyYiIIGIzS",
    "outputId": "2ba0fc75-1487-4ace-a562-cf81cae82793",
    "scrolled": true
   },
   "outputs": [
    {
     "name": "stdout",
     "output_type": "stream",
     "text": [
      "Training set (200000, 784) (200000, 10)\n",
      "Validation set (10000, 784) (10000, 10)\n",
      "Test set (10000, 784) (10000, 10)\n"
     ]
    }
   ],
   "source": [
    "image_size = 28\n",
    "num_labels = 10\n",
    "\n",
    "def reformat(dataset, labels):\n",
    "  dataset = dataset.reshape((-1, image_size * image_size)).astype(np.float32)\n",
    "  # Map 0 to [1.0, 0.0, 0.0 ...], 1 to [0.0, 1.0, 0.0 ...]\n",
    "  labels = (np.arange(num_labels) == labels[:,None]).astype(np.float32)\n",
    "  return dataset, labels\n",
    "train_dataset, train_labels = reformat(train_dataset, train_labels)\n",
    "valid_dataset, valid_labels = reformat(valid_dataset, valid_labels)\n",
    "test_dataset, test_labels = reformat(test_dataset, test_labels)\n",
    "print('Training set', train_dataset.shape, train_labels.shape)\n",
    "print('Validation set', valid_dataset.shape, valid_labels.shape)\n",
    "print('Test set', test_dataset.shape, test_labels.shape)"
   ]
  },
  {
   "cell_type": "markdown",
   "metadata": {},
   "source": [
    "Finally, we define some utility functions."
   ]
  },
  {
   "cell_type": "code",
   "execution_count": 4,
   "metadata": {
    "collapsed": true
   },
   "outputs": [],
   "source": [
    "def accuracy(predictions, labels):\n",
    "    return (100.0 * np.sum(np.argmax(predictions, 1) == np.argmax(labels, 1)) / predictions.shape[0])"
   ]
  },
  {
   "cell_type": "markdown",
   "metadata": {},
   "source": [
    "### Multi-nomial Logistic Regression"
   ]
  },
  {
   "cell_type": "markdown",
   "metadata": {
    "colab_type": "text",
    "id": "nCLVqyQ5vPPH"
   },
   "source": [
    "We're going to train a multi-nomial logistic regression model using stochastic gradient descent.\n",
    "\n",
    "TensorFlow works like this:\n",
    "* First you describe the computation that you want to see performed: what the inputs, the variables, and the operations look like. These get created as nodes over a computation graph. This description is all contained within the block below:\n",
    "\n",
    "      with tf.Graph().as_default() as graph:\n",
    "          ...\n",
    "\n",
    "* Then you can run the operations on this graph as many times as you want by calling `session.run()`, providing it outputs to fetch from the graph that get returned. This runtime operation is all contained in the block below:\n",
    "\n",
    "      with tf.Session(graph=graph) as session:\n",
    "          ...\n",
    "\n",
    "Let's build and run the computation graph corresponding to our model."
   ]
  },
  {
   "cell_type": "code",
   "execution_count": 5,
   "metadata": {
    "cellView": "both",
    "colab": {
     "autoexec": {
      "startup": false,
      "wait_interval": 0
     }
    },
    "colab_type": "code",
    "collapsed": false,
    "id": "Nfv39qvtvOl_"
   },
   "outputs": [
    {
     "name": "stdout",
     "output_type": "stream",
     "text": [
      "Step 0: Acc_val: 44.2% (Acc_batch: 10.2%, loss: 2.29059)\n",
      "Step 1000: Acc_val: 82.5% (Acc_batch: 79.7%, loss: 0.68959)\n",
      "Step 2000: Acc_val: 82.7% (Acc_batch: 89.8%, loss: 0.52833)\n",
      "Step 3000: Acc_val: 82.9% (Acc_batch: 85.9%, loss: 0.63319)\n",
      "Step 4000: Acc_val: 83.0% (Acc_batch: 87.5%, loss: 0.55271)\n",
      "Step 5000: Acc_val: 83.0% (Acc_batch: 87.5%, loss: 0.51461)\n",
      "Step 6000: Acc_val: 82.9% (Acc_batch: 78.9%, loss: 0.75281)\n",
      "Step 7000: Acc_val: 83.1% (Acc_batch: 81.2%, loss: 0.65789)\n",
      "Step 8000: Acc_val: 83.0% (Acc_batch: 75.8%, loss: 0.98212)\n",
      "Step 9000: Acc_val: 83.1% (Acc_batch: 84.4%, loss: 0.67761)\n",
      "Step 10000: Acc_val: 83.1% (Acc_batch: 79.7%, loss: 0.67248)\n",
      "Acc_test: 90.0%\n"
     ]
    }
   ],
   "source": [
    "# settings\n",
    "in_ndim = image_size * image_size\n",
    "out_ndim = num_labels\n",
    "\n",
    "batch_size = 128\n",
    "num_steps = 10001\n",
    "\n",
    "\n",
    "# graph\n",
    "with tf.Graph().as_default() as graph:\n",
    "    # inputs\n",
    "    X = tf.placeholder(tf.float32, shape=[batch_size, in_ndim])\n",
    "    Y = tf.placeholder(tf.float32, shape=[batch_size, out_ndim])\n",
    "    X_val = tf.constant(valid_dataset)\n",
    "    X_test = tf.constant(test_dataset)\n",
    "\n",
    "    \n",
    "    # parameters\n",
    "    W_out = tf.Variable(tf.truncated_normal([in_ndim, out_ndim], stddev=0.01))\n",
    "    b_out = tf.Variable(tf.zeros([out_ndim]))\n",
    "    \n",
    "    \n",
    "    # model\n",
    "    def model(X):\n",
    "        # output layer\n",
    "        logits = tf.matmul(X, W_out) + b_out\n",
    "        return logits\n",
    "    \n",
    "    \n",
    "    # outputs\n",
    "    logits = model(X)\n",
    "    logits_val = model(X_val)\n",
    "    logits_test = model(X_test)\n",
    "    \n",
    "\n",
    "    # optimizer\n",
    "    loss = tf.reduce_mean(tf.nn.softmax_cross_entropy_with_logits(logits, Y))\n",
    "    optimizer = tf.train.AdagradOptimizer(0.05).minimize(loss)\n",
    "\n",
    "    \n",
    "    # predictions\n",
    "    predictions = tf.nn.softmax(logits)\n",
    "    predictions_val = tf.nn.softmax(logits_val)\n",
    "    predictions_test = tf.nn.softmax(logits_test)\n",
    "\n",
    "\n",
    "# run\n",
    "with tf.Session(graph=graph) as session:\n",
    "    tf.initialize_all_variables().run()\n",
    "    for step in range(num_steps):\n",
    "        offset = (step * batch_size) % (train_dataset.shape[0] - batch_size)\n",
    "        batch_data = train_dataset[offset:(offset + batch_size), :]\n",
    "        batch_labels = train_labels[offset:(offset + batch_size), :]\n",
    "\n",
    "        _, p, l = session.run([optimizer, predictions, loss],\n",
    "                              feed_dict={X: batch_data, Y: batch_labels})\n",
    "        \n",
    "        if step % 1000 == 0:\n",
    "            print('Step {}: Acc_val: {:.1f}% (Acc_batch: {:.1f}%, loss: {:.5f})'.format(\n",
    "                      step,\n",
    "                      accuracy(predictions_val.eval(), valid_labels),\n",
    "                      accuracy(p, batch_labels),\n",
    "                      l))\n",
    "    print('Acc_test: {:.1f}%'.format(accuracy(predictions_test.eval(), test_labels)))"
   ]
  },
  {
   "cell_type": "markdown",
   "metadata": {},
   "source": [
    "### Deep Neural Network"
   ]
  },
  {
   "cell_type": "code",
   "execution_count": 6,
   "metadata": {
    "collapsed": false
   },
   "outputs": [
    {
     "name": "stdout",
     "output_type": "stream",
     "text": [
      "Step 0: Acc_val: 10.0% (Acc_batch: 12.5%, loss: 2.30689)\n",
      "Step 1000: Acc_val: 10.0% (Acc_batch: 10.2%, loss: 2.30576)\n",
      "Step 2000: Acc_val: 10.0% (Acc_batch: 7.0%, loss: 2.30571)\n",
      "Step 3000: Acc_val: 10.0% (Acc_batch: 10.2%, loss: 2.30418)\n",
      "Step 4000: Acc_val: 10.0% (Acc_batch: 6.2%, loss: 2.30514)\n",
      "Step 5000: Acc_val: 61.4% (Acc_batch: 60.2%, loss: 1.16410)\n",
      "Step 6000: Acc_val: 83.1% (Acc_batch: 79.7%, loss: 0.76877)\n",
      "Step 7000: Acc_val: 84.7% (Acc_batch: 80.5%, loss: 0.64766)\n",
      "Step 8000: Acc_val: 85.4% (Acc_batch: 78.9%, loss: 0.78825)\n",
      "Step 9000: Acc_val: 86.4% (Acc_batch: 84.4%, loss: 0.61684)\n",
      "Step 10000: Acc_val: 87.0% (Acc_batch: 84.4%, loss: 0.55245)\n",
      "Acc_test: 93.7%\n"
     ]
    }
   ],
   "source": [
    "# settings\n",
    "in_ndim = image_size * image_size\n",
    "out_ndim = num_labels\n",
    "\n",
    "beta = 0.001\n",
    "decay_steps = 1000\n",
    "decay_rate = 0.98\n",
    "keep_prob = 0.95\n",
    "\n",
    "batch_size = 128\n",
    "num_steps = 10001\n",
    "\n",
    "\n",
    "# graph\n",
    "with tf.Graph().as_default() as graph:\n",
    "    # miscellaneous variables\n",
    "    global_step = tf.Variable(0, trainable=False)\n",
    "    \n",
    "    \n",
    "    # inputs\n",
    "    X = tf.placeholder(tf.float32, shape=[batch_size, in_ndim])\n",
    "    Y = tf.placeholder(tf.float32, shape=[batch_size, out_ndim])\n",
    "    X_val = tf.constant(valid_dataset)\n",
    "    X_test = tf.constant(test_dataset)\n",
    "\n",
    "    \n",
    "    # parameters\n",
    "    ndim1 = 128\n",
    "    W1 = tf.Variable(tf.truncated_normal(shape=[in_ndim, ndim1], stddev=0.01))\n",
    "    b1 = tf.Variable(tf.zeros(ndim1))\n",
    "    \n",
    "    ndim2 = 64\n",
    "    W2 = tf.Variable(tf.truncated_normal(shape=[ndim1, ndim2], stddev=0.01))\n",
    "    b2 = tf.Variable(tf.zeros(ndim2))\n",
    "    \n",
    "    ndim3 = 32\n",
    "    W3 = tf.Variable(tf.truncated_normal(shape=[ndim2, ndim3], stddev=0.01))\n",
    "    b3 = tf.Variable(tf.zeros(ndim3))\n",
    "        \n",
    "    W_out = tf.Variable(tf.truncated_normal([ndim3, out_ndim], stddev=0.01))\n",
    "    b_out = tf.Variable(tf.zeros([out_ndim]))\n",
    "    \n",
    "    \n",
    "    # model\n",
    "    def model(X, dropout=False):\n",
    "        # hidden layer 1: fully-connected\n",
    "        X1 = tf.nn.relu(tf.matmul(X, W1) + b1)\n",
    "        if dropout:\n",
    "            X1 = tf.nn.dropout(X1, keep_prob)\n",
    "\n",
    "        # hidden layer 2: fully-connected\n",
    "        X2 = tf.nn.relu(tf.matmul(X1, W2) + b2)\n",
    "        if dropout:\n",
    "            X2 = tf.nn.dropout(X2, keep_prob)\n",
    "\n",
    "        # hidden layer 3: fully-connected\n",
    "        X3 = tf.nn.relu(tf.matmul(X2, W3) + b3)\n",
    "        if dropout:\n",
    "            X3 = tf.nn.dropout(X3, keep_prob)\n",
    "            \n",
    "        # output layer\n",
    "        logits = tf.matmul(X3, W_out) + b_out\n",
    "        return logits\n",
    "    \n",
    "    \n",
    "    # outputs\n",
    "    logits = model(X, dropout=True)\n",
    "    logits_val = model(X_val)\n",
    "    logits_test = model(X_test)\n",
    "    \n",
    "\n",
    "    # optimizer\n",
    "    regularizer = beta * (tf.nn.l2_loss(W1) + tf.nn.l2_loss(b1) +\n",
    "                              tf.nn.l2_loss(W2) + tf.nn.l2_loss(b2) +\n",
    "                              tf.nn.l2_loss(W3) + tf.nn.l2_loss(b3) +\n",
    "                              tf.nn.l2_loss(W_out) + tf.nn.l2_loss(b_out))\n",
    "    loss = tf.reduce_mean(tf.nn.softmax_cross_entropy_with_logits(logits, Y)) + regularizer\n",
    "    learning_rate = tf.train.exponential_decay(0.05, global_step, decay_steps, decay_rate, staircase=True)\n",
    "    optimizer = tf.train.AdagradOptimizer(learning_rate).minimize(loss, global_step=global_step)\n",
    "\n",
    "    \n",
    "    # predictions\n",
    "    predictions = tf.nn.softmax(logits)\n",
    "    predictions_val = tf.nn.softmax(logits_val)\n",
    "    predictions_test = tf.nn.softmax(logits_test)\n",
    "\n",
    "\n",
    "# run\n",
    "with tf.Session(graph=graph) as session:\n",
    "    tf.initialize_all_variables().run()\n",
    "    for step in range(num_steps):\n",
    "        offset = (step * batch_size) % (train_dataset.shape[0] - batch_size)\n",
    "        batch_data = train_dataset[offset:(offset + batch_size), :]\n",
    "        batch_labels = train_labels[offset:(offset + batch_size), :]\n",
    "\n",
    "        _, p, l = session.run([optimizer, predictions, loss],\n",
    "                              feed_dict={X: batch_data, Y: batch_labels})\n",
    "        \n",
    "        if step % 1000 == 0:\n",
    "            print('Step {}: Acc_val: {:.1f}% (Acc_batch: {:.1f}%, loss: {:.5f})'.format(\n",
    "                      step,\n",
    "                      accuracy(predictions_val.eval(), valid_labels),\n",
    "                      accuracy(p, batch_labels),\n",
    "                      l))\n",
    "    print('Acc_test: {:.1f}%'.format(accuracy(predictions_test.eval(), test_labels)))"
   ]
  }
 ],
 "metadata": {
  "colab": {
   "default_view": {},
   "name": "2_fullyconnected.ipynb",
   "provenance": [],
   "version": "0.3.2",
   "views": {}
  },
  "kernelspec": {
   "display_name": "Python 2",
   "language": "python",
   "name": "python2"
  },
  "language_info": {
   "codemirror_mode": {
    "name": "ipython",
    "version": 2
   },
   "file_extension": ".py",
   "mimetype": "text/x-python",
   "name": "python",
   "nbconvert_exporter": "python",
   "pygments_lexer": "ipython2",
   "version": "2.7.12"
  }
 },
 "nbformat": 4,
 "nbformat_minor": 0
}
